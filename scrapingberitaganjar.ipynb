{
 "cells": [
  {
   "cell_type": "code",
   "execution_count": 1,
   "metadata": {},
   "outputs": [],
   "source": [
    "import requests\n",
    "import pandas as pd\n",
    "from bs4 import BeautifulSoup\n",
    "import chromedriver_autoinstaller\n",
    "from selenium import webdriver\n",
    "import csv\n",
    "from datetime import datetime"
   ]
  },
  {
   "cell_type": "code",
   "execution_count": 2,
   "metadata": {},
   "outputs": [],
   "source": [
    "#install browser seperti chrome\n",
    "chromedriver_autoinstaller.install()\n",
    "\n",
    "#gunakan browser yang terinstal untuk selenium\n",
    "browser = webdriver.Chrome()"
   ]
  },
  {
   "cell_type": "code",
   "execution_count": 3,
   "metadata": {},
   "outputs": [],
   "source": [
    "#seperti requests.get\n",
    "#hanya untuk mendapatkan situs web yang sedang kita coba untuk scrape\n",
    "browser.get('https://www.cnnindonesia.com/search/?query=ganjar+2024')"
   ]
  },
  {
   "cell_type": "code",
   "execution_count": 4,
   "metadata": {},
   "outputs": [],
   "source": [
    "soup = BeautifulSoup(browser.page_source, 'lxml')"
   ]
  },
  {
   "cell_type": "code",
   "execution_count": 5,
   "metadata": {},
   "outputs": [],
   "source": [
    "list_media_di_page = soup.find('div', class_='list media_rows middle')\n",
    "list_article = list_media_di_page.find_all('article')"
   ]
  },
  {
   "cell_type": "code",
   "execution_count": 7,
   "metadata": {},
   "outputs": [
    {
     "name": "stdout",
     "output_type": "stream",
     "text": [
      "done[2]>Ganjar Bic\n",
      "done[2]>Merasa Lem\n",
      "done[2]>Aburizal B\n",
      "done[2]>Demokrat S\n",
      "done[2]>Ganjar soa\n",
      "done[2]>PDIP Banta\n",
      "done[2]>PDIP Buka \n",
      "done[2]>VIDEO: Cer\n",
      "done[2]>Hasto Sama\n",
      "done[2]>VIDEO: Man\n"
     ]
    }
   ],
   "source": [
    "ganjar_2024 = [2]\n",
    "for page in range(1,2):\n",
    "    chromedriver_autoinstaller.install()\n",
    "    browser = webdriver.Chrome()\n",
    "    browser.get('https://www.cnnindonesia.com/search/?query=ganjar+2024')\n",
    "    soup = BeautifulSoup(browser.page_source, 'lxml')\n",
    "    list_media_di_page = soup.find('div', class_='list media_rows middle')\n",
    "    list_article = list_media_di_page.find_all('article')\n",
    "    for x in list_article:\n",
    "        link = x.find('a')['href']\n",
    "        date = x.find('span', class_='date').text\n",
    "        headline = x.find('a').find('h2').text\n",
    "        get_url = requests.get(link).text\n",
    "        sop = BeautifulSoup(get_url, 'lxml')\n",
    "        content = sop.find_all('div',class_='detail_text')\n",
    "        for x in content:\n",
    "            x = x.find_all('p')\n",
    "            y = [y.text for y in x]\n",
    "            content_ = ''.join(y).replace('\\n','').replace('ADVERTISEMENT','').replace('SCROLL TO RESUME CONTENT','')\n",
    "            print(f'done[2]>{headline[0:10]}')\n",
    "\n",
    "            data_ganjar = {\n",
    "                'Headline': headline,\n",
    "                'Date': date,\n",
    "                'Link': link,\n",
    "                'Content': content_\n",
    "            }\n",
    "            \n",
    "            ganjar_2024.append(data_ganjar)"
   ]
  },
  {
   "cell_type": "code",
   "execution_count": 8,
   "metadata": {},
   "outputs": [],
   "source": [
    "pd.DataFrame(ganjar_2024).to_excel('ganjary2024.xlsx')"
   ]
  },
  {
   "cell_type": "code",
   "execution_count": 20,
   "metadata": {},
   "outputs": [
    {
     "ename": "TypeError",
     "evalue": "'int' object is not subscriptable",
     "output_type": "error",
     "traceback": [
      "\u001b[1;31m---------------------------------------------------------------------------\u001b[0m",
      "\u001b[1;31mTypeError\u001b[0m                                 Traceback (most recent call last)",
      "\u001b[1;32md:\\prokom\\web scraping\\ndexbloomberg.ipynb Cell 8\u001b[0m in \u001b[0;36m<cell line: 2>\u001b[1;34m()\u001b[0m\n\u001b[0;32m      <a href='vscode-notebook-cell:/d%3A/prokom/web%20scraping/ndexbloomberg.ipynb#X11sZmlsZQ%3D%3D?line=0'>1</a>\u001b[0m col_name \u001b[39m=\u001b[39m \u001b[39m'\u001b[39m\u001b[39mHeadline\u001b[39m\u001b[39m'\u001b[39m\n\u001b[1;32m----> <a href='vscode-notebook-cell:/d%3A/prokom/web%20scraping/ndexbloomberg.ipynb#X11sZmlsZQ%3D%3D?line=1'>2</a>\u001b[0m column_data \u001b[39m=\u001b[39m [row[col_name] \u001b[39mfor\u001b[39;00m row \u001b[39min\u001b[39;00m ganjar_2024]\n\u001b[0;32m      <a href='vscode-notebook-cell:/d%3A/prokom/web%20scraping/ndexbloomberg.ipynb#X11sZmlsZQ%3D%3D?line=3'>4</a>\u001b[0m \u001b[39mprint\u001b[39m(column_data)\n",
      "\u001b[1;32md:\\prokom\\web scraping\\ndexbloomberg.ipynb Cell 8\u001b[0m in \u001b[0;36m<listcomp>\u001b[1;34m(.0)\u001b[0m\n\u001b[0;32m      <a href='vscode-notebook-cell:/d%3A/prokom/web%20scraping/ndexbloomberg.ipynb#X11sZmlsZQ%3D%3D?line=0'>1</a>\u001b[0m col_name \u001b[39m=\u001b[39m \u001b[39m'\u001b[39m\u001b[39mHeadline\u001b[39m\u001b[39m'\u001b[39m\n\u001b[1;32m----> <a href='vscode-notebook-cell:/d%3A/prokom/web%20scraping/ndexbloomberg.ipynb#X11sZmlsZQ%3D%3D?line=1'>2</a>\u001b[0m column_data \u001b[39m=\u001b[39m [row[col_name] \u001b[39mfor\u001b[39;00m row \u001b[39min\u001b[39;00m ganjar_2024]\n\u001b[0;32m      <a href='vscode-notebook-cell:/d%3A/prokom/web%20scraping/ndexbloomberg.ipynb#X11sZmlsZQ%3D%3D?line=3'>4</a>\u001b[0m \u001b[39mprint\u001b[39m(column_data)\n",
      "\u001b[1;31mTypeError\u001b[0m: 'int' object is not subscriptable"
     ]
    }
   ],
   "source": [
    "col_name = 'Headline'\n",
    "column_data = [row[col_name] for row in ganjar_2024]\n",
    "\n",
    "print(column_data)"
   ]
  },
  {
   "cell_type": "code",
   "execution_count": null,
   "metadata": {},
   "outputs": [],
   "source": [
    "with open('ganjar2024.csv','a')as file:\n",
    "                    wr = csv.writer(file, delimiter=',')\n",
    "                    wr.writerow([headline,date,link,content_])\n"
   ]
  }
 ],
 "metadata": {
  "kernelspec": {
   "display_name": "base",
   "language": "python",
   "name": "python3"
  },
  "language_info": {
   "codemirror_mode": {
    "name": "ipython",
    "version": 3
   },
   "file_extension": ".py",
   "mimetype": "text/x-python",
   "name": "python",
   "nbconvert_exporter": "python",
   "pygments_lexer": "ipython3",
   "version": "3.9.12"
  },
  "orig_nbformat": 4
 },
 "nbformat": 4,
 "nbformat_minor": 2
}
